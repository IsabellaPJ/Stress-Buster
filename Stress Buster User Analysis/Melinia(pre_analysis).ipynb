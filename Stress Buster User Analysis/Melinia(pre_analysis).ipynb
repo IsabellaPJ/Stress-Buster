{
  "cells": [
    {
      "cell_type": "code",
      "execution_count": 1,
      "metadata": {
        "id": "x0I-_fs2N9mS"
      },
      "outputs": [],
      "source": [
        "%matplotlib inline\n",
        "import matplotlib\n",
        "import matplotlib.pyplot as plt\n",
        "import pandas as pd\n",
        "import numpy as np\n",
        "import seaborn as sns\n",
        "import sklearn\n",
        "import imblearn"
      ]
    },
    {
      "cell_type": "code",
      "execution_count": 2,
      "metadata": {
        "id": "qL1DBTVZOXGf"
      },
      "outputs": [],
      "source": [
        "import warnings\n",
        "warnings.filterwarnings(\"ignore\")"
      ]
    },
    {
      "cell_type": "markdown",
      "source": [
        "# Survey data\n",
        "\n",
        "The data is collected using google forms to identify the mental pattern among people so that we can derive at better conclusions for the problem statement that helps in satisfying the user needs"
      ],
      "metadata": {
        "id": "0cdg-0ff1Bce"
      }
    },
    {
      "cell_type": "code",
      "execution_count": 3,
      "metadata": {
        "id": "7h66WduiQNH3"
      },
      "outputs": [],
      "source": [
        "data = pd.read_csv(\"Mental Health Survey (Responses).csv\")"
      ]
    },
    {
      "cell_type": "code",
      "execution_count": 4,
      "metadata": {
        "colab": {
          "base_uri": "https://localhost:8080/",
          "height": 528
        },
        "id": "y_DZmEVVQNds",
        "outputId": "7d448b79-eecf-43ff-f4a7-a166fcf00d07"
      },
      "outputs": [
        {
          "output_type": "execute_result",
          "data": {
            "text/plain": [
              "            Timestamp    Age  Gender  \\\n",
              "0  3/28/2023 15:00:40  20-30  Female   \n",
              "1  3/28/2023 15:00:49  20-30  Female   \n",
              "2  3/28/2023 15:02:31  20-30    Male   \n",
              "3  3/28/2023 15:06:31  20-30  Female   \n",
              "4  3/28/2023 15:06:54  20-30    Male   \n",
              "\n",
              "  In the past month, have you felt sad or down more often than usual?  \\\n",
              "0                                                Yes                    \n",
              "1                                                Yes                    \n",
              "2                                                Yes                    \n",
              "3                                                Yes                    \n",
              "4                                                Yes                    \n",
              "\n",
              "  Have you been experiencing difficulty sleeping or sleeping too much lately?  \\\n",
              "0                                                Yes                            \n",
              "1                                                Yes                            \n",
              "2                                                Yes                            \n",
              "3                                                Yes                            \n",
              "4                                                 No                            \n",
              "\n",
              "  Have you had thoughts of harming yourself or others?  \\\n",
              "0                                                 No     \n",
              "1                                                 No     \n",
              "2                                                Yes     \n",
              "3                                                Yes     \n",
              "4                                                 No     \n",
              "\n",
              "  Do you feel like you have support from friends or family when you need it?  \\\n",
              "0                                                Yes                           \n",
              "1                                                Yes                           \n",
              "2                                                Yes                           \n",
              "3                                                Yes                           \n",
              "4                                                Yes                           \n",
              "\n",
              "  Do you feel like you are able to manage your stress levels effectively?  \\\n",
              "0                                                 No                        \n",
              "1                                                Yes                        \n",
              "2                                                 No                        \n",
              "3                                                Yes                        \n",
              "4                                                Yes                        \n",
              "\n",
              "  What activities do you find help you to relax and de-stress?  \\\n",
              "0                                      Playing Games             \n",
              "1                               Talking with someone             \n",
              "2                                      Playing Games             \n",
              "3                               Talking with someone             \n",
              "4                                      Playing Games             \n",
              "\n",
              "  Are you able to take regular breaks throughout the day to give your mind and body a chance to rest?  \\\n",
              "0                                                Yes                                                    \n",
              "1                                                 No                                                    \n",
              "2                                                Yes                                                    \n",
              "3                                                Yes                                                    \n",
              "4                                                Yes                                                    \n",
              "\n",
              "   How much do you rate your mental stability? Your current mental state  \n",
              "0                                            3       Stressful/Depressed  \n",
              "1                                            3       Stressful/Depressed  \n",
              "2                                            3                    Stable  \n",
              "3                                            3                    Stable  \n",
              "4                                            3                    Stable  "
            ],
            "text/html": [
              "\n",
              "  <div id=\"df-78e68c4f-c918-4102-b019-5852c39373f8\">\n",
              "    <div class=\"colab-df-container\">\n",
              "      <div>\n",
              "<style scoped>\n",
              "    .dataframe tbody tr th:only-of-type {\n",
              "        vertical-align: middle;\n",
              "    }\n",
              "\n",
              "    .dataframe tbody tr th {\n",
              "        vertical-align: top;\n",
              "    }\n",
              "\n",
              "    .dataframe thead th {\n",
              "        text-align: right;\n",
              "    }\n",
              "</style>\n",
              "<table border=\"1\" class=\"dataframe\">\n",
              "  <thead>\n",
              "    <tr style=\"text-align: right;\">\n",
              "      <th></th>\n",
              "      <th>Timestamp</th>\n",
              "      <th>Age</th>\n",
              "      <th>Gender</th>\n",
              "      <th>In the past month, have you felt sad or down more often than usual?</th>\n",
              "      <th>Have you been experiencing difficulty sleeping or sleeping too much lately?</th>\n",
              "      <th>Have you had thoughts of harming yourself or others?</th>\n",
              "      <th>Do you feel like you have support from friends or family when you need it?</th>\n",
              "      <th>Do you feel like you are able to manage your stress levels effectively?</th>\n",
              "      <th>What activities do you find help you to relax and de-stress?</th>\n",
              "      <th>Are you able to take regular breaks throughout the day to give your mind and body a chance to rest?</th>\n",
              "      <th>How much do you rate your mental stability?</th>\n",
              "      <th>Your current mental state</th>\n",
              "    </tr>\n",
              "  </thead>\n",
              "  <tbody>\n",
              "    <tr>\n",
              "      <th>0</th>\n",
              "      <td>3/28/2023 15:00:40</td>\n",
              "      <td>20-30</td>\n",
              "      <td>Female</td>\n",
              "      <td>Yes</td>\n",
              "      <td>Yes</td>\n",
              "      <td>No</td>\n",
              "      <td>Yes</td>\n",
              "      <td>No</td>\n",
              "      <td>Playing Games</td>\n",
              "      <td>Yes</td>\n",
              "      <td>3</td>\n",
              "      <td>Stressful/Depressed</td>\n",
              "    </tr>\n",
              "    <tr>\n",
              "      <th>1</th>\n",
              "      <td>3/28/2023 15:00:49</td>\n",
              "      <td>20-30</td>\n",
              "      <td>Female</td>\n",
              "      <td>Yes</td>\n",
              "      <td>Yes</td>\n",
              "      <td>No</td>\n",
              "      <td>Yes</td>\n",
              "      <td>Yes</td>\n",
              "      <td>Talking with someone</td>\n",
              "      <td>No</td>\n",
              "      <td>3</td>\n",
              "      <td>Stressful/Depressed</td>\n",
              "    </tr>\n",
              "    <tr>\n",
              "      <th>2</th>\n",
              "      <td>3/28/2023 15:02:31</td>\n",
              "      <td>20-30</td>\n",
              "      <td>Male</td>\n",
              "      <td>Yes</td>\n",
              "      <td>Yes</td>\n",
              "      <td>Yes</td>\n",
              "      <td>Yes</td>\n",
              "      <td>No</td>\n",
              "      <td>Playing Games</td>\n",
              "      <td>Yes</td>\n",
              "      <td>3</td>\n",
              "      <td>Stable</td>\n",
              "    </tr>\n",
              "    <tr>\n",
              "      <th>3</th>\n",
              "      <td>3/28/2023 15:06:31</td>\n",
              "      <td>20-30</td>\n",
              "      <td>Female</td>\n",
              "      <td>Yes</td>\n",
              "      <td>Yes</td>\n",
              "      <td>Yes</td>\n",
              "      <td>Yes</td>\n",
              "      <td>Yes</td>\n",
              "      <td>Talking with someone</td>\n",
              "      <td>Yes</td>\n",
              "      <td>3</td>\n",
              "      <td>Stable</td>\n",
              "    </tr>\n",
              "    <tr>\n",
              "      <th>4</th>\n",
              "      <td>3/28/2023 15:06:54</td>\n",
              "      <td>20-30</td>\n",
              "      <td>Male</td>\n",
              "      <td>Yes</td>\n",
              "      <td>No</td>\n",
              "      <td>No</td>\n",
              "      <td>Yes</td>\n",
              "      <td>Yes</td>\n",
              "      <td>Playing Games</td>\n",
              "      <td>Yes</td>\n",
              "      <td>3</td>\n",
              "      <td>Stable</td>\n",
              "    </tr>\n",
              "  </tbody>\n",
              "</table>\n",
              "</div>\n",
              "      <button class=\"colab-df-convert\" onclick=\"convertToInteractive('df-78e68c4f-c918-4102-b019-5852c39373f8')\"\n",
              "              title=\"Convert this dataframe to an interactive table.\"\n",
              "              style=\"display:none;\">\n",
              "        \n",
              "  <svg xmlns=\"http://www.w3.org/2000/svg\" height=\"24px\"viewBox=\"0 0 24 24\"\n",
              "       width=\"24px\">\n",
              "    <path d=\"M0 0h24v24H0V0z\" fill=\"none\"/>\n",
              "    <path d=\"M18.56 5.44l.94 2.06.94-2.06 2.06-.94-2.06-.94-.94-2.06-.94 2.06-2.06.94zm-11 1L8.5 8.5l.94-2.06 2.06-.94-2.06-.94L8.5 2.5l-.94 2.06-2.06.94zm10 10l.94 2.06.94-2.06 2.06-.94-2.06-.94-.94-2.06-.94 2.06-2.06.94z\"/><path d=\"M17.41 7.96l-1.37-1.37c-.4-.4-.92-.59-1.43-.59-.52 0-1.04.2-1.43.59L10.3 9.45l-7.72 7.72c-.78.78-.78 2.05 0 2.83L4 21.41c.39.39.9.59 1.41.59.51 0 1.02-.2 1.41-.59l7.78-7.78 2.81-2.81c.8-.78.8-2.07 0-2.86zM5.41 20L4 18.59l7.72-7.72 1.47 1.35L5.41 20z\"/>\n",
              "  </svg>\n",
              "      </button>\n",
              "      \n",
              "  <style>\n",
              "    .colab-df-container {\n",
              "      display:flex;\n",
              "      flex-wrap:wrap;\n",
              "      gap: 12px;\n",
              "    }\n",
              "\n",
              "    .colab-df-convert {\n",
              "      background-color: #E8F0FE;\n",
              "      border: none;\n",
              "      border-radius: 50%;\n",
              "      cursor: pointer;\n",
              "      display: none;\n",
              "      fill: #1967D2;\n",
              "      height: 32px;\n",
              "      padding: 0 0 0 0;\n",
              "      width: 32px;\n",
              "    }\n",
              "\n",
              "    .colab-df-convert:hover {\n",
              "      background-color: #E2EBFA;\n",
              "      box-shadow: 0px 1px 2px rgba(60, 64, 67, 0.3), 0px 1px 3px 1px rgba(60, 64, 67, 0.15);\n",
              "      fill: #174EA6;\n",
              "    }\n",
              "\n",
              "    [theme=dark] .colab-df-convert {\n",
              "      background-color: #3B4455;\n",
              "      fill: #D2E3FC;\n",
              "    }\n",
              "\n",
              "    [theme=dark] .colab-df-convert:hover {\n",
              "      background-color: #434B5C;\n",
              "      box-shadow: 0px 1px 3px 1px rgba(0, 0, 0, 0.15);\n",
              "      filter: drop-shadow(0px 1px 2px rgba(0, 0, 0, 0.3));\n",
              "      fill: #FFFFFF;\n",
              "    }\n",
              "  </style>\n",
              "\n",
              "      <script>\n",
              "        const buttonEl =\n",
              "          document.querySelector('#df-78e68c4f-c918-4102-b019-5852c39373f8 button.colab-df-convert');\n",
              "        buttonEl.style.display =\n",
              "          google.colab.kernel.accessAllowed ? 'block' : 'none';\n",
              "\n",
              "        async function convertToInteractive(key) {\n",
              "          const element = document.querySelector('#df-78e68c4f-c918-4102-b019-5852c39373f8');\n",
              "          const dataTable =\n",
              "            await google.colab.kernel.invokeFunction('convertToInteractive',\n",
              "                                                     [key], {});\n",
              "          if (!dataTable) return;\n",
              "\n",
              "          const docLinkHtml = 'Like what you see? Visit the ' +\n",
              "            '<a target=\"_blank\" href=https://colab.research.google.com/notebooks/data_table.ipynb>data table notebook</a>'\n",
              "            + ' to learn more about interactive tables.';\n",
              "          element.innerHTML = '';\n",
              "          dataTable['output_type'] = 'display_data';\n",
              "          await google.colab.output.renderOutput(dataTable, element);\n",
              "          const docLink = document.createElement('div');\n",
              "          docLink.innerHTML = docLinkHtml;\n",
              "          element.appendChild(docLink);\n",
              "        }\n",
              "      </script>\n",
              "    </div>\n",
              "  </div>\n",
              "  "
            ]
          },
          "metadata": {},
          "execution_count": 4
        }
      ],
      "source": [
        "data.head()"
      ]
    },
    {
      "cell_type": "markdown",
      "source": [
        "# Renaming the columns for better access\n"
      ],
      "metadata": {
        "id": "px73DeJr1bGQ"
      }
    },
    {
      "cell_type": "code",
      "execution_count": 5,
      "metadata": {
        "id": "XNHNxKSqWqTD"
      },
      "outputs": [],
      "source": [
        "data.columns=['Timestamp','Age','Gender','pastmonth_down', 'sleep_diff', 'harmful_thought', 'friends/family_help', 'manage_effectively', 'activity','rest', 'mental_stability', 'current_state']\n"
      ]
    },
    {
      "cell_type": "code",
      "source": [
        "data.head()"
      ],
      "metadata": {
        "id": "wga9psEkbF0K",
        "colab": {
          "base_uri": "https://localhost:8080/",
          "height": 391
        },
        "outputId": "76073291-0ea5-478b-bb32-bc594b291bde"
      },
      "execution_count": 6,
      "outputs": [
        {
          "output_type": "execute_result",
          "data": {
            "text/plain": [
              "            Timestamp    Age  Gender pastmonth_down sleep_diff  \\\n",
              "0  3/28/2023 15:00:40  20-30  Female            Yes        Yes   \n",
              "1  3/28/2023 15:00:49  20-30  Female            Yes        Yes   \n",
              "2  3/28/2023 15:02:31  20-30    Male            Yes        Yes   \n",
              "3  3/28/2023 15:06:31  20-30  Female            Yes        Yes   \n",
              "4  3/28/2023 15:06:54  20-30    Male            Yes         No   \n",
              "\n",
              "  harmful_thought friends/family_help manage_effectively  \\\n",
              "0              No                 Yes                 No   \n",
              "1              No                 Yes                Yes   \n",
              "2             Yes                 Yes                 No   \n",
              "3             Yes                 Yes                Yes   \n",
              "4              No                 Yes                Yes   \n",
              "\n",
              "               activity rest  mental_stability        current_state  \n",
              "0         Playing Games  Yes                 3  Stressful/Depressed  \n",
              "1  Talking with someone   No                 3  Stressful/Depressed  \n",
              "2         Playing Games  Yes                 3               Stable  \n",
              "3  Talking with someone  Yes                 3               Stable  \n",
              "4         Playing Games  Yes                 3               Stable  "
            ],
            "text/html": [
              "\n",
              "  <div id=\"df-446433eb-4aa1-4c6a-ab05-8bf7b1b3705e\">\n",
              "    <div class=\"colab-df-container\">\n",
              "      <div>\n",
              "<style scoped>\n",
              "    .dataframe tbody tr th:only-of-type {\n",
              "        vertical-align: middle;\n",
              "    }\n",
              "\n",
              "    .dataframe tbody tr th {\n",
              "        vertical-align: top;\n",
              "    }\n",
              "\n",
              "    .dataframe thead th {\n",
              "        text-align: right;\n",
              "    }\n",
              "</style>\n",
              "<table border=\"1\" class=\"dataframe\">\n",
              "  <thead>\n",
              "    <tr style=\"text-align: right;\">\n",
              "      <th></th>\n",
              "      <th>Timestamp</th>\n",
              "      <th>Age</th>\n",
              "      <th>Gender</th>\n",
              "      <th>pastmonth_down</th>\n",
              "      <th>sleep_diff</th>\n",
              "      <th>harmful_thought</th>\n",
              "      <th>friends/family_help</th>\n",
              "      <th>manage_effectively</th>\n",
              "      <th>activity</th>\n",
              "      <th>rest</th>\n",
              "      <th>mental_stability</th>\n",
              "      <th>current_state</th>\n",
              "    </tr>\n",
              "  </thead>\n",
              "  <tbody>\n",
              "    <tr>\n",
              "      <th>0</th>\n",
              "      <td>3/28/2023 15:00:40</td>\n",
              "      <td>20-30</td>\n",
              "      <td>Female</td>\n",
              "      <td>Yes</td>\n",
              "      <td>Yes</td>\n",
              "      <td>No</td>\n",
              "      <td>Yes</td>\n",
              "      <td>No</td>\n",
              "      <td>Playing Games</td>\n",
              "      <td>Yes</td>\n",
              "      <td>3</td>\n",
              "      <td>Stressful/Depressed</td>\n",
              "    </tr>\n",
              "    <tr>\n",
              "      <th>1</th>\n",
              "      <td>3/28/2023 15:00:49</td>\n",
              "      <td>20-30</td>\n",
              "      <td>Female</td>\n",
              "      <td>Yes</td>\n",
              "      <td>Yes</td>\n",
              "      <td>No</td>\n",
              "      <td>Yes</td>\n",
              "      <td>Yes</td>\n",
              "      <td>Talking with someone</td>\n",
              "      <td>No</td>\n",
              "      <td>3</td>\n",
              "      <td>Stressful/Depressed</td>\n",
              "    </tr>\n",
              "    <tr>\n",
              "      <th>2</th>\n",
              "      <td>3/28/2023 15:02:31</td>\n",
              "      <td>20-30</td>\n",
              "      <td>Male</td>\n",
              "      <td>Yes</td>\n",
              "      <td>Yes</td>\n",
              "      <td>Yes</td>\n",
              "      <td>Yes</td>\n",
              "      <td>No</td>\n",
              "      <td>Playing Games</td>\n",
              "      <td>Yes</td>\n",
              "      <td>3</td>\n",
              "      <td>Stable</td>\n",
              "    </tr>\n",
              "    <tr>\n",
              "      <th>3</th>\n",
              "      <td>3/28/2023 15:06:31</td>\n",
              "      <td>20-30</td>\n",
              "      <td>Female</td>\n",
              "      <td>Yes</td>\n",
              "      <td>Yes</td>\n",
              "      <td>Yes</td>\n",
              "      <td>Yes</td>\n",
              "      <td>Yes</td>\n",
              "      <td>Talking with someone</td>\n",
              "      <td>Yes</td>\n",
              "      <td>3</td>\n",
              "      <td>Stable</td>\n",
              "    </tr>\n",
              "    <tr>\n",
              "      <th>4</th>\n",
              "      <td>3/28/2023 15:06:54</td>\n",
              "      <td>20-30</td>\n",
              "      <td>Male</td>\n",
              "      <td>Yes</td>\n",
              "      <td>No</td>\n",
              "      <td>No</td>\n",
              "      <td>Yes</td>\n",
              "      <td>Yes</td>\n",
              "      <td>Playing Games</td>\n",
              "      <td>Yes</td>\n",
              "      <td>3</td>\n",
              "      <td>Stable</td>\n",
              "    </tr>\n",
              "  </tbody>\n",
              "</table>\n",
              "</div>\n",
              "      <button class=\"colab-df-convert\" onclick=\"convertToInteractive('df-446433eb-4aa1-4c6a-ab05-8bf7b1b3705e')\"\n",
              "              title=\"Convert this dataframe to an interactive table.\"\n",
              "              style=\"display:none;\">\n",
              "        \n",
              "  <svg xmlns=\"http://www.w3.org/2000/svg\" height=\"24px\"viewBox=\"0 0 24 24\"\n",
              "       width=\"24px\">\n",
              "    <path d=\"M0 0h24v24H0V0z\" fill=\"none\"/>\n",
              "    <path d=\"M18.56 5.44l.94 2.06.94-2.06 2.06-.94-2.06-.94-.94-2.06-.94 2.06-2.06.94zm-11 1L8.5 8.5l.94-2.06 2.06-.94-2.06-.94L8.5 2.5l-.94 2.06-2.06.94zm10 10l.94 2.06.94-2.06 2.06-.94-2.06-.94-.94-2.06-.94 2.06-2.06.94z\"/><path d=\"M17.41 7.96l-1.37-1.37c-.4-.4-.92-.59-1.43-.59-.52 0-1.04.2-1.43.59L10.3 9.45l-7.72 7.72c-.78.78-.78 2.05 0 2.83L4 21.41c.39.39.9.59 1.41.59.51 0 1.02-.2 1.41-.59l7.78-7.78 2.81-2.81c.8-.78.8-2.07 0-2.86zM5.41 20L4 18.59l7.72-7.72 1.47 1.35L5.41 20z\"/>\n",
              "  </svg>\n",
              "      </button>\n",
              "      \n",
              "  <style>\n",
              "    .colab-df-container {\n",
              "      display:flex;\n",
              "      flex-wrap:wrap;\n",
              "      gap: 12px;\n",
              "    }\n",
              "\n",
              "    .colab-df-convert {\n",
              "      background-color: #E8F0FE;\n",
              "      border: none;\n",
              "      border-radius: 50%;\n",
              "      cursor: pointer;\n",
              "      display: none;\n",
              "      fill: #1967D2;\n",
              "      height: 32px;\n",
              "      padding: 0 0 0 0;\n",
              "      width: 32px;\n",
              "    }\n",
              "\n",
              "    .colab-df-convert:hover {\n",
              "      background-color: #E2EBFA;\n",
              "      box-shadow: 0px 1px 2px rgba(60, 64, 67, 0.3), 0px 1px 3px 1px rgba(60, 64, 67, 0.15);\n",
              "      fill: #174EA6;\n",
              "    }\n",
              "\n",
              "    [theme=dark] .colab-df-convert {\n",
              "      background-color: #3B4455;\n",
              "      fill: #D2E3FC;\n",
              "    }\n",
              "\n",
              "    [theme=dark] .colab-df-convert:hover {\n",
              "      background-color: #434B5C;\n",
              "      box-shadow: 0px 1px 3px 1px rgba(0, 0, 0, 0.15);\n",
              "      filter: drop-shadow(0px 1px 2px rgba(0, 0, 0, 0.3));\n",
              "      fill: #FFFFFF;\n",
              "    }\n",
              "  </style>\n",
              "\n",
              "      <script>\n",
              "        const buttonEl =\n",
              "          document.querySelector('#df-446433eb-4aa1-4c6a-ab05-8bf7b1b3705e button.colab-df-convert');\n",
              "        buttonEl.style.display =\n",
              "          google.colab.kernel.accessAllowed ? 'block' : 'none';\n",
              "\n",
              "        async function convertToInteractive(key) {\n",
              "          const element = document.querySelector('#df-446433eb-4aa1-4c6a-ab05-8bf7b1b3705e');\n",
              "          const dataTable =\n",
              "            await google.colab.kernel.invokeFunction('convertToInteractive',\n",
              "                                                     [key], {});\n",
              "          if (!dataTable) return;\n",
              "\n",
              "          const docLinkHtml = 'Like what you see? Visit the ' +\n",
              "            '<a target=\"_blank\" href=https://colab.research.google.com/notebooks/data_table.ipynb>data table notebook</a>'\n",
              "            + ' to learn more about interactive tables.';\n",
              "          element.innerHTML = '';\n",
              "          dataTable['output_type'] = 'display_data';\n",
              "          await google.colab.output.renderOutput(dataTable, element);\n",
              "          const docLink = document.createElement('div');\n",
              "          docLink.innerHTML = docLinkHtml;\n",
              "          element.appendChild(docLink);\n",
              "        }\n",
              "      </script>\n",
              "    </div>\n",
              "  </div>\n",
              "  "
            ]
          },
          "metadata": {},
          "execution_count": 6
        }
      ]
    },
    {
      "cell_type": "markdown",
      "source": [
        "# Identifying number of unique values in each column"
      ],
      "metadata": {
        "id": "oVcCkcGi1o33"
      }
    },
    {
      "cell_type": "code",
      "execution_count": 7,
      "metadata": {
        "id": "-6BA6ZROSozW",
        "colab": {
          "base_uri": "https://localhost:8080/"
        },
        "outputId": "54330c31-036d-499d-e0f1-90a1baa614c4"
      },
      "outputs": [
        {
          "output_type": "execute_result",
          "data": {
            "text/plain": [
              "Timestamp              55\n",
              "Age                     3\n",
              "Gender                  2\n",
              "pastmonth_down          2\n",
              "sleep_diff              2\n",
              "harmful_thought         2\n",
              "friends/family_help     2\n",
              "manage_effectively      2\n",
              "activity                3\n",
              "rest                    2\n",
              "mental_stability        5\n",
              "current_state           3\n",
              "dtype: int64"
            ]
          },
          "metadata": {},
          "execution_count": 7
        }
      ],
      "source": [
        "data.nunique()"
      ]
    },
    {
      "cell_type": "code",
      "execution_count": 8,
      "metadata": {
        "id": "Bb5qyua2Stxj",
        "colab": {
          "base_uri": "https://localhost:8080/"
        },
        "outputId": "a055b0af-da69-4e2f-9a0c-02d90e95d958"
      },
      "outputs": [
        {
          "output_type": "execute_result",
          "data": {
            "text/plain": [
              "Timestamp              object\n",
              "Age                    object\n",
              "Gender                 object\n",
              "pastmonth_down         object\n",
              "sleep_diff             object\n",
              "harmful_thought        object\n",
              "friends/family_help    object\n",
              "manage_effectively     object\n",
              "activity               object\n",
              "rest                   object\n",
              "mental_stability        int64\n",
              "current_state          object\n",
              "dtype: object"
            ]
          },
          "metadata": {},
          "execution_count": 8
        }
      ],
      "source": [
        "data.dtypes"
      ]
    },
    {
      "cell_type": "markdown",
      "source": [
        "# Checking for null values\n",
        "\n",
        "Here there is no null vales present in the dataset"
      ],
      "metadata": {
        "id": "iLgSD_UO1yj1"
      }
    },
    {
      "cell_type": "code",
      "execution_count": 9,
      "metadata": {
        "id": "ZsT4A4vAS2K2",
        "colab": {
          "base_uri": "https://localhost:8080/",
          "height": 570
        },
        "outputId": "cef42b5e-edf7-47a9-c290-f513785f030e"
      },
      "outputs": [
        {
          "output_type": "execute_result",
          "data": {
            "text/plain": [
              "<Axes: >"
            ]
          },
          "metadata": {},
          "execution_count": 9
        },
        {
          "output_type": "display_data",
          "data": {
            "text/plain": [
              "<Figure size 640x480 with 1 Axes>"
            ],
            "image/png": "[encoded data removed]"
          },
          "metadata": {}
        }
      ],
      "source": [
        "sns.heatmap(data.isnull(),yticklabels=False,cbar=False,cmap='viridis')"
      ]
    },
    {
      "cell_type": "code",
      "execution_count": 10,
      "metadata": {
        "id": "NtvBLUlQS74V",
        "colab": {
          "base_uri": "https://localhost:8080/"
        },
        "outputId": "04a562de-1b0c-48d2-bc3f-fffc8bf82b8a"
      },
      "outputs": [
        {
          "output_type": "execute_result",
          "data": {
            "text/plain": [
              "(110, 12)"
            ]
          },
          "metadata": {},
          "execution_count": 10
        }
      ],
      "source": [
        "data.shape"
      ]
    },
    {
      "cell_type": "markdown",
      "source": [
        "# Encoding\n",
        "\n",
        "Here the yes values are replaced by 1 and No with 0"
      ],
      "metadata": {
        "id": "aTnDGc3719Zm"
      }
    },
    {
      "cell_type": "code",
      "source": [
        "binary_col=['pastmonth_down','sleep_diff','harmful_thought','friends/family_help','manage_effectively','rest']\n",
        "data[binary_col] = data[binary_col].applymap(lambda x: 1 if x == 'Yes' else 0)"
      ],
      "metadata": {
        "id": "Tu-IFp3fkS8w"
      },
      "execution_count": 11,
      "outputs": []
    },
    {
      "cell_type": "code",
      "source": [
        "data.head()"
      ],
      "metadata": {
        "colab": {
          "base_uri": "https://localhost:8080/",
          "height": 391
        },
        "id": "GfxtCB0XkfN_",
        "outputId": "5d3e197a-d536-4bc4-be69-9e57616361af"
      },
      "execution_count": 12,
      "outputs": [
        {
          "output_type": "execute_result",
          "data": {
            "text/plain": [
              "            Timestamp    Age  Gender  pastmonth_down  sleep_diff  \\\n",
              "0  3/28/2023 15:00:40  20-30  Female               1           1   \n",
              "1  3/28/2023 15:00:49  20-30  Female               1           1   \n",
              "2  3/28/2023 15:02:31  20-30    Male               1           1   \n",
              "3  3/28/2023 15:06:31  20-30  Female               1           1   \n",
              "4  3/28/2023 15:06:54  20-30    Male               1           0   \n",
              "\n",
              "   harmful_thought  friends/family_help  manage_effectively  \\\n",
              "0                0                    1                   0   \n",
              "1                0                    1                   1   \n",
              "2                1                    1                   0   \n",
              "3                1                    1                   1   \n",
              "4                0                    1                   1   \n",
              "\n",
              "               activity  rest  mental_stability        current_state  \n",
              "0         Playing Games     1                 3  Stressful/Depressed  \n",
              "1  Talking with someone     0                 3  Stressful/Depressed  \n",
              "2         Playing Games     1                 3               Stable  \n",
              "3  Talking with someone     1                 3               Stable  \n",
              "4         Playing Games     1                 3               Stable  "
            ],
            "text/html": [
              "\n",
              "  <div id=\"df-637091ff-afb4-4284-9a7d-8f09c2bec557\">\n",
              "    <div class=\"colab-df-container\">\n",
              "      <div>\n",
              "<style scoped>\n",
              "    .dataframe tbody tr th:only-of-type {\n",
              "        vertical-align: middle;\n",
              "    }\n",
              "\n",
              "    .dataframe tbody tr th {\n",
              "        vertical-align: top;\n",
              "    }\n",
              "\n",
              "    .dataframe thead th {\n",
              "        text-align: right;\n",
              "    }\n",
              "</style>\n",
              "<table border=\"1\" class=\"dataframe\">\n",
              "  <thead>\n",
              "    <tr style=\"text-align: right;\">\n",
              "      <th></th>\n",
              "      <th>Timestamp</th>\n",
              "      <th>Age</th>\n",
              "      <th>Gender</th>\n",
              "      <th>pastmonth_down</th>\n",
              "      <th>sleep_diff</th>\n",
              "      <th>harmful_thought</th>\n",
              "      <th>friends/family_help</th>\n",
              "      <th>manage_effectively</th>\n",
              "      <th>activity</th>\n",
              "      <th>rest</th>\n",
              "      <th>mental_stability</th>\n",
              "      <th>current_state</th>\n",
              "    </tr>\n",
              "  </thead>\n",
              "  <tbody>\n",
              "    <tr>\n",
              "      <th>0</th>\n",
              "      <td>3/28/2023 15:00:40</td>\n",
              "      <td>20-30</td>\n",
              "      <td>Female</td>\n",
              "      <td>1</td>\n",
              "      <td>1</td>\n",
              "      <td>0</td>\n",
              "      <td>1</td>\n",
              "      <td>0</td>\n",
              "      <td>Playing Games</td>\n",
              "      <td>1</td>\n",
              "      <td>3</td>\n",
              "      <td>Stressful/Depressed</td>\n",
              "    </tr>\n",
              "    <tr>\n",
              "      <th>1</th>\n",
              "      <td>3/28/2023 15:00:49</td>\n",
              "      <td>20-30</td>\n",
              "      <td>Female</td>\n",
              "      <td>1</td>\n",
              "      <td>1</td>\n",
              "      <td>0</td>\n",
              "      <td>1</td>\n",
              "      <td>1</td>\n",
              "      <td>Talking with someone</td>\n",
              "      <td>0</td>\n",
              "      <td>3</td>\n",
              "      <td>Stressful/Depressed</td>\n",
              "    </tr>\n",
              "    <tr>\n",
              "      <th>2</th>\n",
              "      <td>3/28/2023 15:02:31</td>\n",
              "      <td>20-30</td>\n",
              "      <td>Male</td>\n",
              "      <td>1</td>\n",
              "      <td>1</td>\n",
              "      <td>1</td>\n",
              "      <td>1</td>\n",
              "      <td>0</td>\n",
              "      <td>Playing Games</td>\n",
              "      <td>1</td>\n",
              "      <td>3</td>\n",
              "      <td>Stable</td>\n",
              "    </tr>\n",
              "    <tr>\n",
              "      <th>3</th>\n",
              "      <td>3/28/2023 15:06:31</td>\n",
              "      <td>20-30</td>\n",
              "      <td>Female</td>\n",
              "      <td>1</td>\n",
              "      <td>1</td>\n",
              "      <td>1</td>\n",
              "      <td>1</td>\n",
              "      <td>1</td>\n",
              "      <td>Talking with someone</td>\n",
              "      <td>1</td>\n",
              "      <td>3</td>\n",
              "      <td>Stable</td>\n",
              "    </tr>\n",
              "    <tr>\n",
              "      <th>4</th>\n",
              "      <td>3/28/2023 15:06:54</td>\n",
              "      <td>20-30</td>\n",
              "      <td>Male</td>\n",
              "      <td>1</td>\n",
              "      <td>0</td>\n",
              "      <td>0</td>\n",
              "      <td>1</td>\n",
              "      <td>1</td>\n",
              "      <td>Playing Games</td>\n",
              "      <td>1</td>\n",
              "      <td>3</td>\n",
              "      <td>Stable</td>\n",
              "    </tr>\n",
              "  </tbody>\n",
              "</table>\n",
              "</div>\n",
              "      <button class=\"colab-df-convert\" onclick=\"convertToInteractive('df-637091ff-afb4-4284-9a7d-8f09c2bec557')\"\n",
              "              title=\"Convert this dataframe to an interactive table.\"\n",
              "              style=\"display:none;\">\n",
              "        \n",
              "  <svg xmlns=\"http://www.w3.org/2000/svg\" height=\"24px\"viewBox=\"0 0 24 24\"\n",
              "       width=\"24px\">\n",
              "    <path d=\"M0 0h24v24H0V0z\" fill=\"none\"/>\n",
              "    <path d=\"M18.56 5.44l.94 2.06.94-2.06 2.06-.94-2.06-.94-.94-2.06-.94 2.06-2.06.94zm-11 1L8.5 8.5l.94-2.06 2.06-.94-2.06-.94L8.5 2.5l-.94 2.06-2.06.94zm10 10l.94 2.06.94-2.06 2.06-.94-2.06-.94-.94-2.06-.94 2.06-2.06.94z\"/><path d=\"M17.41 7.96l-1.37-1.37c-.4-.4-.92-.59-1.43-.59-.52 0-1.04.2-1.43.59L10.3 9.45l-7.72 7.72c-.78.78-.78 2.05 0 2.83L4 21.41c.39.39.9.59 1.41.59.51 0 1.02-.2 1.41-.59l7.78-7.78 2.81-2.81c.8-.78.8-2.07 0-2.86zM5.41 20L4 18.59l7.72-7.72 1.47 1.35L5.41 20z\"/>\n",
              "  </svg>\n",
              "      </button>\n",
              "      \n",
              "  <style>\n",
              "    .colab-df-container {\n",
              "      display:flex;\n",
              "      flex-wrap:wrap;\n",
              "      gap: 12px;\n",
              "    }\n",
              "\n",
              "    .colab-df-convert {\n",
              "      background-color: #E8F0FE;\n",
              "      border: none;\n",
              "      border-radius: 50%;\n",
              "      cursor: pointer;\n",
              "      display: none;\n",
              "      fill: #1967D2;\n",
              "      height: 32px;\n",
              "      padding: 0 0 0 0;\n",
              "      width: 32px;\n",
              "    }\n",
              "\n",
              "    .colab-df-convert:hover {\n",
              "      background-color: #E2EBFA;\n",
              "      box-shadow: 0px 1px 2px rgba(60, 64, 67, 0.3), 0px 1px 3px 1px rgba(60, 64, 67, 0.15);\n",
              "      fill: #174EA6;\n",
              "    }\n",
              "\n",
              "    [theme=dark] .colab-df-convert {\n",
              "      background-color: #3B4455;\n",
              "      fill: #D2E3FC;\n",
              "    }\n",
              "\n",
              "    [theme=dark] .colab-df-convert:hover {\n",
              "      background-color: #434B5C;\n",
              "      box-shadow: 0px 1px 3px 1px rgba(0, 0, 0, 0.15);\n",
              "      filter: drop-shadow(0px 1px 2px rgba(0, 0, 0, 0.3));\n",
              "      fill: #FFFFFF;\n",
              "    }\n",
              "  </style>\n",
              "\n",
              "      <script>\n",
              "        const buttonEl =\n",
              "          document.querySelector('#df-637091ff-afb4-4284-9a7d-8f09c2bec557 button.colab-df-convert');\n",
              "        buttonEl.style.display =\n",
              "          google.colab.kernel.accessAllowed ? 'block' : 'none';\n",
              "\n",
              "        async function convertToInteractive(key) {\n",
              "          const element = document.querySelector('#df-637091ff-afb4-4284-9a7d-8f09c2bec557');\n",
              "          const dataTable =\n",
              "            await google.colab.kernel.invokeFunction('convertToInteractive',\n",
              "                                                     [key], {});\n",
              "          if (!dataTable) return;\n",
              "\n",
              "          const docLinkHtml = 'Like what you see? Visit the ' +\n",
              "            '<a target=\"_blank\" href=https://colab.research.google.com/notebooks/data_table.ipynb>data table notebook</a>'\n",
              "            + ' to learn more about interactive tables.';\n",
              "          element.innerHTML = '';\n",
              "          dataTable['output_type'] = 'display_data';\n",
              "          await google.colab.output.renderOutput(dataTable, element);\n",
              "          const docLink = document.createElement('div');\n",
              "          docLink.innerHTML = docLinkHtml;\n",
              "          element.appendChild(docLink);\n",
              "        }\n",
              "      </script>\n",
              "    </div>\n",
              "  </div>\n",
              "  "
            ]
          },
          "metadata": {},
          "execution_count": 12
        }
      ]
    },
    {
      "cell_type": "markdown",
      "source": [
        "The remaining columns are encoded using Label encoding\n",
        "\n",
        "Age           : 20_30-0,\n",
        "                30_40-1,\n",
        "                above 40-2\n",
        "\n",
        "Gender        : Male-0,\n",
        "                Female-1\n",
        "\n",
        "Activity      : Playing games-0,\n",
        "                Talking with someone-1,\n",
        "                Reading books-2\n",
        "\n",
        "Current_status: Sressful/depressed-0,\n",
        "                Stable-1,\n",
        "                Joyful-2\n",
        "          "
      ],
      "metadata": {
        "id": "Mkkptfrt2J5h"
      }
    },
    {
      "cell_type": "code",
      "execution_count": 13,
      "metadata": {
        "id": "X9S0SPP4Th6I"
      },
      "outputs": [],
      "source": [
        "from sklearn.preprocessing import LabelEncoder\n",
        "\n",
        "cat_cols=['Age','Gender','activity','current_state']\n",
        "\n",
        "# instantiate the LabelEncoder\n",
        "le = LabelEncoder()\n",
        "\n",
        "\n",
        "# encode all columns in the dataframe\n",
        "data[cat_cols] = data[cat_cols].apply(lambda col: le.fit_transform(col))\n"
      ]
    },
    {
      "cell_type": "code",
      "execution_count": 14,
      "metadata": {
        "id": "Yzd8nw0WTnDx",
        "colab": {
          "base_uri": "https://localhost:8080/",
          "height": 357
        },
        "outputId": "f5cd1dcd-186a-4b44-b3a5-a857c537efa5"
      },
      "outputs": [
        {
          "output_type": "execute_result",
          "data": {
            "text/plain": [
              "            Timestamp  Age  Gender  pastmonth_down  sleep_diff  \\\n",
              "0  3/28/2023 15:00:40    0       0               1           1   \n",
              "1  3/28/2023 15:00:49    0       0               1           1   \n",
              "2  3/28/2023 15:02:31    0       1               1           1   \n",
              "3  3/28/2023 15:06:31    0       0               1           1   \n",
              "4  3/28/2023 15:06:54    0       1               1           0   \n",
              "\n",
              "   harmful_thought  friends/family_help  manage_effectively  activity  rest  \\\n",
              "0                0                    1                   0         0     1   \n",
              "1                0                    1                   1         2     0   \n",
              "2                1                    1                   0         0     1   \n",
              "3                1                    1                   1         2     1   \n",
              "4                0                    1                   1         0     1   \n",
              "\n",
              "   mental_stability  current_state  \n",
              "0                 3              2  \n",
              "1                 3              2  \n",
              "2                 3              1  \n",
              "3                 3              1  \n",
              "4                 3              1  "
            ],
            "text/html": [
              "\n",
              "  <div id=\"df-07c57d26-925a-4575-a0eb-7395a6a24a43\">\n",
              "    <div class=\"colab-df-container\">\n",
              "      <div>\n",
              "<style scoped>\n",
              "    .dataframe tbody tr th:only-of-type {\n",
              "        vertical-align: middle;\n",
              "    }\n",
              "\n",
              "    .dataframe tbody tr th {\n",
              "        vertical-align: top;\n",
              "    }\n",
              "\n",
              "    .dataframe thead th {\n",
              "        text-align: right;\n",
              "    }\n",
              "</style>\n",
              "<table border=\"1\" class=\"dataframe\">\n",
              "  <thead>\n",
              "    <tr style=\"text-align: right;\">\n",
              "      <th></th>\n",
              "      <th>Timestamp</th>\n",
              "      <th>Age</th>\n",
              "      <th>Gender</th>\n",
              "      <th>pastmonth_down</th>\n",
              "      <th>sleep_diff</th>\n",
              "      <th>harmful_thought</th>\n",
              "      <th>friends/family_help</th>\n",
              "      <th>manage_effectively</th>\n",
              "      <th>activity</th>\n",
              "      <th>rest</th>\n",
              "      <th>mental_stability</th>\n",
              "      <th>current_state</th>\n",
              "    </tr>\n",
              "  </thead>\n",
              "  <tbody>\n",
              "    <tr>\n",
              "      <th>0</th>\n",
              "      <td>3/28/2023 15:00:40</td>\n",
              "      <td>0</td>\n",
              "      <td>0</td>\n",
              "      <td>1</td>\n",
              "      <td>1</td>\n",
              "      <td>0</td>\n",
              "      <td>1</td>\n",
              "      <td>0</td>\n",
              "      <td>0</td>\n",
              "      <td>1</td>\n",
              "      <td>3</td>\n",
              "      <td>2</td>\n",
              "    </tr>\n",
              "    <tr>\n",
              "      <th>1</th>\n",
              "      <td>3/28/2023 15:00:49</td>\n",
              "      <td>0</td>\n",
              "      <td>0</td>\n",
              "      <td>1</td>\n",
              "      <td>1</td>\n",
              "      <td>0</td>\n",
              "      <td>1</td>\n",
              "      <td>1</td>\n",
              "      <td>2</td>\n",
              "      <td>0</td>\n",
              "      <td>3</td>\n",
              "      <td>2</td>\n",
              "    </tr>\n",
              "    <tr>\n",
              "      <th>2</th>\n",
              "      <td>3/28/2023 15:02:31</td>\n",
              "      <td>0</td>\n",
              "      <td>1</td>\n",
              "      <td>1</td>\n",
              "      <td>1</td>\n",
              "      <td>1</td>\n",
              "      <td>1</td>\n",
              "      <td>0</td>\n",
              "      <td>0</td>\n",
              "      <td>1</td>\n",
              "      <td>3</td>\n",
              "      <td>1</td>\n",
              "    </tr>\n",
              "    <tr>\n",
              "      <th>3</th>\n",
              "      <td>3/28/2023 15:06:31</td>\n",
              "      <td>0</td>\n",
              "      <td>0</td>\n",
              "      <td>1</td>\n",
              "      <td>1</td>\n",
              "      <td>1</td>\n",
              "      <td>1</td>\n",
              "      <td>1</td>\n",
              "      <td>2</td>\n",
              "      <td>1</td>\n",
              "      <td>3</td>\n",
              "      <td>1</td>\n",
              "    </tr>\n",
              "    <tr>\n",
              "      <th>4</th>\n",
              "      <td>3/28/2023 15:06:54</td>\n",
              "      <td>0</td>\n",
              "      <td>1</td>\n",
              "      <td>1</td>\n",
              "      <td>0</td>\n",
              "      <td>0</td>\n",
              "      <td>1</td>\n",
              "      <td>1</td>\n",
              "      <td>0</td>\n",
              "      <td>1</td>\n",
              "      <td>3</td>\n",
              "      <td>1</td>\n",
              "    </tr>\n",
              "  </tbody>\n",
              "</table>\n",
              "</div>\n",
              "      <button class=\"colab-df-convert\" onclick=\"convertToInteractive('df-07c57d26-925a-4575-a0eb-7395a6a24a43')\"\n",
              "              title=\"Convert this dataframe to an interactive table.\"\n",
              "              style=\"display:none;\">\n",
              "        \n",
              "  <svg xmlns=\"http://www.w3.org/2000/svg\" height=\"24px\"viewBox=\"0 0 24 24\"\n",
              "       width=\"24px\">\n",
              "    <path d=\"M0 0h24v24H0V0z\" fill=\"none\"/>\n",
              "    <path d=\"M18.56 5.44l.94 2.06.94-2.06 2.06-.94-2.06-.94-.94-2.06-.94 2.06-2.06.94zm-11 1L8.5 8.5l.94-2.06 2.06-.94-2.06-.94L8.5 2.5l-.94 2.06-2.06.94zm10 10l.94 2.06.94-2.06 2.06-.94-2.06-.94-.94-2.06-.94 2.06-2.06.94z\"/><path d=\"M17.41 7.96l-1.37-1.37c-.4-.4-.92-.59-1.43-.59-.52 0-1.04.2-1.43.59L10.3 9.45l-7.72 7.72c-.78.78-.78 2.05 0 2.83L4 21.41c.39.39.9.59 1.41.59.51 0 1.02-.2 1.41-.59l7.78-7.78 2.81-2.81c.8-.78.8-2.07 0-2.86zM5.41 20L4 18.59l7.72-7.72 1.47 1.35L5.41 20z\"/>\n",
              "  </svg>\n",
              "      </button>\n",
              "      \n",
              "  <style>\n",
              "    .colab-df-container {\n",
              "      display:flex;\n",
              "      flex-wrap:wrap;\n",
              "      gap: 12px;\n",
              "    }\n",
              "\n",
              "    .colab-df-convert {\n",
              "      background-color: #E8F0FE;\n",
              "      border: none;\n",
              "      border-radius: 50%;\n",
              "      cursor: pointer;\n",
              "      display: none;\n",
              "      fill: #1967D2;\n",
              "      height: 32px;\n",
              "      padding: 0 0 0 0;\n",
              "      width: 32px;\n",
              "    }\n",
              "\n",
              "    .colab-df-convert:hover {\n",
              "      background-color: #E2EBFA;\n",
              "      box-shadow: 0px 1px 2px rgba(60, 64, 67, 0.3), 0px 1px 3px 1px rgba(60, 64, 67, 0.15);\n",
              "      fill: #174EA6;\n",
              "    }\n",
              "\n",
              "    [theme=dark] .colab-df-convert {\n",
              "      background-color: #3B4455;\n",
              "      fill: #D2E3FC;\n",
              "    }\n",
              "\n",
              "    [theme=dark] .colab-df-convert:hover {\n",
              "      background-color: #434B5C;\n",
              "      box-shadow: 0px 1px 3px 1px rgba(0, 0, 0, 0.15);\n",
              "      filter: drop-shadow(0px 1px 2px rgba(0, 0, 0, 0.3));\n",
              "      fill: #FFFFFF;\n",
              "    }\n",
              "  </style>\n",
              "\n",
              "      <script>\n",
              "        const buttonEl =\n",
              "          document.querySelector('#df-07c57d26-925a-4575-a0eb-7395a6a24a43 button.colab-df-convert');\n",
              "        buttonEl.style.display =\n",
              "          google.colab.kernel.accessAllowed ? 'block' : 'none';\n",
              "\n",
              "        async function convertToInteractive(key) {\n",
              "          const element = document.querySelector('#df-07c57d26-925a-4575-a0eb-7395a6a24a43');\n",
              "          const dataTable =\n",
              "            await google.colab.kernel.invokeFunction('convertToInteractive',\n",
              "                                                     [key], {});\n",
              "          if (!dataTable) return;\n",
              "\n",
              "          const docLinkHtml = 'Like what you see? Visit the ' +\n",
              "            '<a target=\"_blank\" href=https://colab.research.google.com/notebooks/data_table.ipynb>data table notebook</a>'\n",
              "            + ' to learn more about interactive tables.';\n",
              "          element.innerHTML = '';\n",
              "          dataTable['output_type'] = 'display_data';\n",
              "          await google.colab.output.renderOutput(dataTable, element);\n",
              "          const docLink = document.createElement('div');\n",
              "          docLink.innerHTML = docLinkHtml;\n",
              "          element.appendChild(docLink);\n",
              "        }\n",
              "      </script>\n",
              "    </div>\n",
              "  </div>\n",
              "  "
            ]
          },
          "metadata": {},
          "execution_count": 14
        }
      ],
      "source": [
        "data.head()"
      ]
    },
    {
      "cell_type": "code",
      "source": [
        "data.dtypes"
      ],
      "metadata": {
        "colab": {
          "base_uri": "https://localhost:8080/"
        },
        "id": "kpzlUbEFd61c",
        "outputId": "4e062fae-dce8-4d41-aac8-639cc8f1c93c"
      },
      "execution_count": 15,
      "outputs": [
        {
          "output_type": "execute_result",
          "data": {
            "text/plain": [
              "Timestamp              object\n",
              "Age                     int64\n",
              "Gender                  int64\n",
              "pastmonth_down          int64\n",
              "sleep_diff              int64\n",
              "harmful_thought         int64\n",
              "friends/family_help     int64\n",
              "manage_effectively      int64\n",
              "activity                int64\n",
              "rest                    int64\n",
              "mental_stability        int64\n",
              "current_state           int64\n",
              "dtype: object"
            ]
          },
          "metadata": {},
          "execution_count": 15
        }
      ]
    },
    {
      "cell_type": "code",
      "source": [
        "data=data.drop(['Timestamp'], axis=1)"
      ],
      "metadata": {
        "id": "B7ynpLyTeMZk"
      },
      "execution_count": 16,
      "outputs": []
    },
    {
      "cell_type": "code",
      "source": [
        "data.dtypes"
      ],
      "metadata": {
        "colab": {
          "base_uri": "https://localhost:8080/"
        },
        "id": "JzQnHxtlekf8",
        "outputId": "ca4b4ea4-ba8c-45e5-f7a8-041f972484d9"
      },
      "execution_count": 17,
      "outputs": [
        {
          "output_type": "execute_result",
          "data": {
            "text/plain": [
              "Age                    int64\n",
              "Gender                 int64\n",
              "pastmonth_down         int64\n",
              "sleep_diff             int64\n",
              "harmful_thought        int64\n",
              "friends/family_help    int64\n",
              "manage_effectively     int64\n",
              "activity               int64\n",
              "rest                   int64\n",
              "mental_stability       int64\n",
              "current_state          int64\n",
              "dtype: object"
            ]
          },
          "metadata": {},
          "execution_count": 17
        }
      ]
    },
    {
      "cell_type": "markdown",
      "source": [
        "# Checking for outliers\n",
        "\n",
        "Here the dataset contains no outliers"
      ],
      "metadata": {
        "id": "VKYVofj52SwS"
      }
    },
    {
      "cell_type": "code",
      "execution_count": 18,
      "metadata": {
        "id": "_N2qbyFBTD35",
        "colab": {
          "base_uri": "https://localhost:8080/",
          "height": 503
        },
        "outputId": "d6d5f3c3-5ad1-4f90-f43b-af7ee5b71251"
      },
      "outputs": [
        {
          "output_type": "display_data",
          "data": {
            "text/plain": [
              "<Figure size 500x500 with 1 Axes>"
            ],
            "image/png": "[encoded data removed]"
          },
          "metadata": {}
        },
        {
          "output_type": "stream",
          "name": "stdout",
          "text": [
            "\n",
            "\n"
          ]
        }
      ],
      "source": [
        "for feature in data:\n",
        "    if 0 in data[feature].unique():\n",
        "        pass\n",
        "    else:\n",
        "        fig = plt.figure(figsize=(5,5))\n",
        "        data[feature]=np.log(data[feature])\n",
        "        data.boxplot(column=feature)\n",
        "        plt.ylabel(feature)\n",
        "        plt.title(feature)\n",
        "        plt.show()\n",
        "        print(\"\\n\")\n",
        "        "
      ]
    },
    {
      "cell_type": "markdown",
      "source": [
        "# Exploratory Data Analysis"
      ],
      "metadata": {
        "id": "G6nARXOe2aVi"
      }
    },
    {
      "cell_type": "code",
      "source": [
        "plt.figure(figsize=(15,20)) # defining canvas size\n",
        "plotno = 1 # counter\n",
        "\n",
        "for column in data: # iteration of columns / acessing the columns from count \n",
        "    if plotno<=13:    # set the limit\n",
        "        plt.subplot(4,3,plotno) # # plotting 12 graphs (4-rows,3-columns) ,plotnumber is for count\n",
        "        sns.countplot(x=data[column]) # Plotting count plots because the feature data type is discerte and categorical\n",
        "        plt.xlabel(column,fontsize=20)  # assigning name to x-axis and font size is 20\n",
        "    plotno+=1 # counter increment\n",
        "plt.tight_layout()\n",
        "plt.show() "
      ],
      "metadata": {
        "colab": {
          "base_uri": "https://localhost:8080/",
          "height": 1000
        },
        "id": "RJB0Qy7SfFZ3",
        "outputId": "7350ab92-b562-41c2-8f64-84eaa372bd31"
      },
      "execution_count": 19,
      "outputs": [
        {
          "output_type": "display_data",
          "data": {
            "text/plain": [
              "<Figure size 1500x2000 with 11 Axes>"
            ],
            "image/png": "[encoded data removed]"
          },
          "metadata": {}
        }
      ]
    },
    {
      "cell_type": "markdown",
      "source": [
        "\n",
        "\n",
        "*   The first plot shows the people of different age group and most respondents are in the age group of 20 to 30\n",
        "\n",
        "*   The second plot shows the frequency of male and female respondents\n",
        "\n",
        "*   The third plot shows the past month mental experience and from this it is identified that most of the people felt dowm or sad during the past month\n",
        "\n",
        "*   The fouth plot talks about the sleep difficulties and both types of people are equallsy distributed\n",
        "\n",
        "*   The fifth plot tells about the harmful thoughts and people epericing those traume are slightly hih which is a serious issue to talk upon if not which may harm them or the others\n",
        "\n",
        "*   From the 6th plot it is identified that people are able to get friends and family help whenever they need it\n",
        "\n",
        "*   From the 7th plot is is evident that most of the people are able to manage their time properly\n",
        "\n",
        "*   The 8th plot tells about which activities helps in reducing the stress significantly **Here it is identified that about 73% of the respondends feels that paying games reduce their stress significantly, Hence we developed stress buster**\n",
        "\n",
        "*   The 9th plot tells that people were able to take breaks and rest at appropriate time\n",
        "\n",
        "*   The 10th plot shows the mental stability rating of user and most if them found their mental strenght as average that is 3\n",
        "\n",
        "*   The 11th plot shows the current mental state of the respondents and it is found that most(55%) of the people have stressful/depressed mindset"
      ],
      "metadata": {
        "id": "z1Cke30V4lg1"
      }
    },
    {
      "cell_type": "code",
      "source": [],
      "metadata": {
        "id": "Hq0NHNH5f89k"
      },
      "execution_count": 19,
      "outputs": []
    }
  ],
  "metadata": {
    "colab": {
      "provenance": []
    },
    "kernelspec": {
      "display_name": "Python 3",
      "name": "python3"
    },
    "language_info": {
      "name": "python"
    },
    "accelerator": "GPU",
    "gpuClass": "standard"
  },
  "nbformat": 4,
  "nbformat_minor": 0
}